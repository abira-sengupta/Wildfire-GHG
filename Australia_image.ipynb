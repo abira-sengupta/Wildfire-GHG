{
  "nbformat": 4,
  "nbformat_minor": 0,
  "metadata": {
    "colab": {
      "provenance": []
    },
    "kernelspec": {
      "name": "python3",
      "display_name": "Python 3"
    },
    "language_info": {
      "name": "python"
    }
  },
  "cells": [
    {
      "cell_type": "code",
      "source": [
        "import rasterio\n",
        "import numpy as np\n",
        "import matplotlib.pyplot as plt\n",
        "from rasterio.mask import mask\n",
        "from shapely.geometry import box\n",
        "import geopandas as gpd\n",
        "\n",
        "# File path\n",
        "file_path = '/content/Global_pheno.tif'\n",
        "\n",
        "# Define the bounding box for Australia (approximate)\n",
        "australia_bbox = {\n",
        "    \"minx\": 113.34,  # Minimum longitude\n",
        "    \"maxx\": 153.57,  # Maximum longitude\n",
        "    \"miny\": -39.14,  # Minimum latitude\n",
        "    \"maxy\": -10.68   # Maximum latitude\n",
        "}\n",
        "\n",
        "# Convert the bounding box to a GeoJSON format\n",
        "geometry = [box(australia_bbox[\"minx\"], australia_bbox[\"miny\"], australia_bbox[\"maxx\"], australia_bbox[\"maxy\"])]\n",
        "geo = gpd.GeoDataFrame({\"geometry\": geometry}, crs=\"EPSG:4326\")\n",
        "\n",
        "# Open the .tif file\n",
        "with rasterio.open(file_path) as src:\n",
        "    # Reproject the bounding box to match the .tif file's CRS\n",
        "    geo = geo.to_crs(src.crs)\n",
        "\n",
        "    # Mask the data using the reprojected bounding box\n",
        "    out_image, out_transform = mask(src, geo.geometry, crop=True)\n",
        "\n",
        "    # Get the data array and metadata\n",
        "    methane_data = out_image[0]\n",
        "    no_data_value = src.nodata\n",
        "\n",
        "# Mask the NoData values\n",
        "methane_data_masked = np.ma.masked_equal(methane_data, no_data_value)\n",
        "\n",
        "# Check if the data contains only masked values\n",
        "if np.all(methane_data_masked.mask):\n",
        "    print(\"Warning: All data values are masked (NoData) in the selected region.\")\n",
        "else:\n",
        "    # Normalize data for visualization\n",
        "    methane_data_normalized = (methane_data_masked - np.min(methane_data_masked)) / (np.max(methane_data_masked) - np.min(methane_data_masked))\n",
        "\n",
        "    # Plot the data\n",
        "    plt.figure(figsize=(10, 8))\n",
        "    plt.imshow(methane_data_normalized, cmap='plasma', interpolation='none')  # Changed color map to 'plasma' for better visibility\n",
        "    plt.colorbar(label='Normalized Methane Concentration')\n",
        "    plt.title('Methane Concentrations over Australia (2023)')\n",
        "    plt.grid(True)\n",
        "    plt.show()\n"
      ],
      "metadata": {
        "id": "0umh9BCa77GZ"
      },
      "execution_count": null,
      "outputs": []
    },
    {
      "cell_type": "code",
      "source": [
        "!pip install rasterio geopandas matplotlib"
      ],
      "metadata": {
        "id": "1tVWAj5w7w3U"
      },
      "execution_count": null,
      "outputs": []
    },
    {
      "cell_type": "code",
      "source": [
        "import rasterio\n",
        "import matplotlib.pyplot as plt\n",
        "\n",
        "# Path to the uploaded .tif file\n",
        "tif_path = '/content/Australia_Fire_2014_2023.tif'  # Replace with your file name if different\n",
        "\n",
        "# Open the .tif file\n",
        "with rasterio.open(tif_path) as dataset:\n",
        "    # Read the data (assuming single-band raster)\n",
        "    fire_data = dataset.read(1)  # First band\n",
        "\n",
        "    # Plot the data\n",
        "    plt.figure(figsize=(10, 8))\n",
        "    plt.imshow(fire_data, cmap='hot', extent=dataset.bounds)\n",
        "    plt.colorbar(label='Fire Intensity')\n",
        "    plt.title('Fire Intensity in Australia (2014-2023)')\n",
        "    plt.xlabel('Longitude')\n",
        "    plt.ylabel('Latitude')\n",
        "    plt.show()\n"
      ],
      "metadata": {
        "id": "uoU1_Mxs7w9P"
      },
      "execution_count": null,
      "outputs": []
    }
  ]
}